{
 "cells": [
  {
   "cell_type": "code",
   "execution_count": 1,
   "metadata": {
    "collapsed": false
   },
   "outputs": [
    {
     "name": "stdout",
     "output_type": "stream",
     "text": [
      "File data/expression.bin already downloaded\nPreprocessing Cortex data\n"
     ]
    },
    {
     "ename": "KeyboardInterrupt",
     "evalue": "",
     "traceback": [
      "\u001b[0;31m---------------------------------------------------------------------------\u001b[0m",
      "\u001b[0;31mKeyboardInterrupt\u001b[0m                         Traceback (most recent call last)",
      "\u001b[0;32m<ipython-input-1-42ebf217ed72>\u001b[0m in \u001b[0;36m<module>\u001b[0;34m\u001b[0m\n\u001b[1;32m      2\u001b[0m \u001b[0;32mfrom\u001b[0m \u001b[0mscvi\u001b[0m\u001b[0;34m.\u001b[0m\u001b[0mapi\u001b[0m\u001b[0;34m.\u001b[0m\u001b[0mmodel\u001b[0m\u001b[0;34m.\u001b[0m\u001b[0mvae\u001b[0m \u001b[0;32mimport\u001b[0m \u001b[0mVAE\u001b[0m\u001b[0;34m\u001b[0m\u001b[0;34m\u001b[0m\u001b[0m\n\u001b[1;32m      3\u001b[0m \u001b[0;32mfrom\u001b[0m \u001b[0mscvi\u001b[0m\u001b[0;34m.\u001b[0m\u001b[0mdataset\u001b[0m\u001b[0;34m.\u001b[0m\u001b[0mcortex\u001b[0m \u001b[0;32mimport\u001b[0m \u001b[0mCortexDataset\u001b[0m\u001b[0;34m\u001b[0m\u001b[0;34m\u001b[0m\u001b[0m\n\u001b[0;32m----> 4\u001b[0;31m \u001b[0mgene_dataset\u001b[0m \u001b[0;34m=\u001b[0m \u001b[0mCortexDataset\u001b[0m\u001b[0;34m(\u001b[0m\u001b[0;34m)\u001b[0m\u001b[0;34m\u001b[0m\u001b[0;34m\u001b[0m\u001b[0m\n\u001b[0m\u001b[1;32m      5\u001b[0m \u001b[0mvae\u001b[0m \u001b[0;34m=\u001b[0m \u001b[0mVAE\u001b[0m\u001b[0;34m(\u001b[0m\u001b[0mgene_dataset\u001b[0m\u001b[0;34m.\u001b[0m\u001b[0mnb_genes\u001b[0m\u001b[0;34m)\u001b[0m\u001b[0;34m\u001b[0m\u001b[0;34m\u001b[0m\u001b[0m\n\u001b[1;32m      6\u001b[0m \u001b[0mvae\u001b[0m\u001b[0;34m.\u001b[0m\u001b[0mfit\u001b[0m\u001b[0;34m(\u001b[0m\u001b[0mgene_dataset\u001b[0m\u001b[0;34m)\u001b[0m\u001b[0;34m\u001b[0m\u001b[0;34m\u001b[0m\u001b[0m\n",
      "\u001b[0;32m~/lab/scvi/scvi/dataset/cortex.py\u001b[0m in \u001b[0;36m__init__\u001b[0;34m(self, save_path, genes_to_keep, genes_fish, additional_genes)\u001b[0m\n\u001b[1;32m     37\u001b[0m         \u001b[0;31m# Number of genes we want to keep\u001b[0m\u001b[0;34m\u001b[0m\u001b[0;34m\u001b[0m\u001b[0;34m\u001b[0m\u001b[0m\n\u001b[1;32m     38\u001b[0m         \u001b[0mself\u001b[0m\u001b[0;34m.\u001b[0m\u001b[0madditional_genes\u001b[0m \u001b[0;34m=\u001b[0m \u001b[0madditional_genes\u001b[0m\u001b[0;34m\u001b[0m\u001b[0;34m\u001b[0m\u001b[0m\n\u001b[0;32m---> 39\u001b[0;31m         \u001b[0mexpression_data\u001b[0m\u001b[0;34m,\u001b[0m \u001b[0mlabels\u001b[0m\u001b[0;34m,\u001b[0m \u001b[0mgene_names\u001b[0m\u001b[0;34m,\u001b[0m \u001b[0mcell_types\u001b[0m \u001b[0;34m=\u001b[0m \u001b[0mself\u001b[0m\u001b[0;34m.\u001b[0m\u001b[0mdownload_and_preprocess\u001b[0m\u001b[0;34m(\u001b[0m\u001b[0;34m)\u001b[0m\u001b[0;34m\u001b[0m\u001b[0;34m\u001b[0m\u001b[0m\n\u001b[0m\u001b[1;32m     40\u001b[0m         \u001b[0;31m# np.set_printoptions(threshold=np.nan)\u001b[0m\u001b[0;34m\u001b[0m\u001b[0;34m\u001b[0m\u001b[0;34m\u001b[0m\u001b[0m\n\u001b[1;32m     41\u001b[0m \u001b[0;34m\u001b[0m\u001b[0m\n",
      "\u001b[0;32m~/lab/scvi/scvi/dataset/dataset.py\u001b[0m in \u001b[0;36mdownload_and_preprocess\u001b[0;34m(self)\u001b[0m\n\u001b[1;32m     65\u001b[0m     \u001b[0;32mdef\u001b[0m \u001b[0mdownload_and_preprocess\u001b[0m\u001b[0;34m(\u001b[0m\u001b[0mself\u001b[0m\u001b[0;34m)\u001b[0m\u001b[0;34m:\u001b[0m\u001b[0;34m\u001b[0m\u001b[0;34m\u001b[0m\u001b[0m\n\u001b[1;32m     66\u001b[0m         \u001b[0mself\u001b[0m\u001b[0;34m.\u001b[0m\u001b[0mdownload\u001b[0m\u001b[0;34m(\u001b[0m\u001b[0;34m)\u001b[0m\u001b[0;34m\u001b[0m\u001b[0;34m\u001b[0m\u001b[0m\n\u001b[0;32m---> 67\u001b[0;31m         \u001b[0;32mreturn\u001b[0m \u001b[0mself\u001b[0m\u001b[0;34m.\u001b[0m\u001b[0mpreprocess\u001b[0m\u001b[0;34m(\u001b[0m\u001b[0;34m)\u001b[0m\u001b[0;34m\u001b[0m\u001b[0;34m\u001b[0m\u001b[0m\n\u001b[0m\u001b[1;32m     68\u001b[0m \u001b[0;34m\u001b[0m\u001b[0m\n\u001b[1;32m     69\u001b[0m     \u001b[0;32mdef\u001b[0m \u001b[0mcollate_fn\u001b[0m\u001b[0;34m(\u001b[0m\u001b[0mself\u001b[0m\u001b[0;34m,\u001b[0m \u001b[0mbatch\u001b[0m\u001b[0;34m)\u001b[0m\u001b[0;34m:\u001b[0m\u001b[0;34m\u001b[0m\u001b[0;34m\u001b[0m\u001b[0m\n",
      "\u001b[0;32m~/lab/scvi/scvi/dataset/cortex.py\u001b[0m in \u001b[0;36mpreprocess\u001b[0;34m(self)\u001b[0m\n\u001b[1;32m     60\u001b[0m             \u001b[0mdata_reader\u001b[0m \u001b[0;34m=\u001b[0m \u001b[0mcsv\u001b[0m\u001b[0;34m.\u001b[0m\u001b[0mreader\u001b[0m\u001b[0;34m(\u001b[0m\u001b[0mcsvfile\u001b[0m\u001b[0;34m,\u001b[0m \u001b[0mdelimiter\u001b[0m\u001b[0;34m=\u001b[0m\u001b[0;34m'\\t'\u001b[0m\u001b[0;34m)\u001b[0m\u001b[0;34m\u001b[0m\u001b[0;34m\u001b[0m\u001b[0m\n\u001b[1;32m     61\u001b[0m             \u001b[0mclusters\u001b[0m \u001b[0;34m=\u001b[0m \u001b[0;32mNone\u001b[0m\u001b[0;34m\u001b[0m\u001b[0;34m\u001b[0m\u001b[0m\n\u001b[0;32m---> 62\u001b[0;31m             \u001b[0;32mfor\u001b[0m \u001b[0mi\u001b[0m\u001b[0;34m,\u001b[0m \u001b[0mrow\u001b[0m \u001b[0;32min\u001b[0m \u001b[0menumerate\u001b[0m\u001b[0;34m(\u001b[0m\u001b[0mdata_reader\u001b[0m\u001b[0;34m)\u001b[0m\u001b[0;34m:\u001b[0m\u001b[0;34m\u001b[0m\u001b[0;34m\u001b[0m\u001b[0m\n\u001b[0m\u001b[1;32m     63\u001b[0m                 \u001b[0;32mif\u001b[0m \u001b[0mi\u001b[0m \u001b[0;34m==\u001b[0m \u001b[0;36m1\u001b[0m\u001b[0;34m:\u001b[0m\u001b[0;34m\u001b[0m\u001b[0;34m\u001b[0m\u001b[0m\n\u001b[1;32m     64\u001b[0m                     \u001b[0mprecise_clusters\u001b[0m \u001b[0;34m=\u001b[0m \u001b[0mnp\u001b[0m\u001b[0;34m.\u001b[0m\u001b[0marray\u001b[0m\u001b[0;34m(\u001b[0m\u001b[0mrow\u001b[0m\u001b[0;34m,\u001b[0m \u001b[0mdtype\u001b[0m\u001b[0;34m=\u001b[0m\u001b[0mstr\u001b[0m\u001b[0;34m)\u001b[0m\u001b[0;34m[\u001b[0m\u001b[0;36m2\u001b[0m\u001b[0;34m:\u001b[0m\u001b[0;34m]\u001b[0m\u001b[0;34m\u001b[0m\u001b[0;34m\u001b[0m\u001b[0m\n",
      "\u001b[0;32m~/anaconda3/lib/python3.6/codecs.py\u001b[0m in \u001b[0;36mdecode\u001b[0;34m(self, input, final)\u001b[0m\n\u001b[1;32m    316\u001b[0m         \u001b[0;32mraise\u001b[0m \u001b[0mNotImplementedError\u001b[0m\u001b[0;34m\u001b[0m\u001b[0;34m\u001b[0m\u001b[0m\n\u001b[1;32m    317\u001b[0m \u001b[0;34m\u001b[0m\u001b[0m\n\u001b[0;32m--> 318\u001b[0;31m     \u001b[0;32mdef\u001b[0m \u001b[0mdecode\u001b[0m\u001b[0;34m(\u001b[0m\u001b[0mself\u001b[0m\u001b[0;34m,\u001b[0m \u001b[0minput\u001b[0m\u001b[0;34m,\u001b[0m \u001b[0mfinal\u001b[0m\u001b[0;34m=\u001b[0m\u001b[0;32mFalse\u001b[0m\u001b[0;34m)\u001b[0m\u001b[0;34m:\u001b[0m\u001b[0;34m\u001b[0m\u001b[0;34m\u001b[0m\u001b[0m\n\u001b[0m\u001b[1;32m    319\u001b[0m         \u001b[0;31m# decode input (taking the buffer into account)\u001b[0m\u001b[0;34m\u001b[0m\u001b[0;34m\u001b[0m\u001b[0;34m\u001b[0m\u001b[0m\n\u001b[1;32m    320\u001b[0m         \u001b[0mdata\u001b[0m \u001b[0;34m=\u001b[0m \u001b[0mself\u001b[0m\u001b[0;34m.\u001b[0m\u001b[0mbuffer\u001b[0m \u001b[0;34m+\u001b[0m \u001b[0minput\u001b[0m\u001b[0;34m\u001b[0m\u001b[0;34m\u001b[0m\u001b[0m\n",
      "\u001b[0;31mKeyboardInterrupt\u001b[0m: "
     ],
     "output_type": "error"
    }
   ],
   "source": [
    "# test scvi.api.model.vae\n",
    "from scvi.api.model.vae import VAE\n",
    "from scvi.dataset.cortex import CortexDataset\n",
    "gene_dataset = CortexDataset()\n",
    "vae = VAE(gene_dataset.nb_genes)\n",
    "vae.fit(gene_dataset)\n",
    "vae.transform(gene_dataset.X, gene_dataset.labels)"
   ]
  },
  {
   "cell_type": "code",
   "execution_count": 2,
   "metadata": {
    "collapsed": false
   },
   "outputs": [
    {
     "name": "stdout",
     "output_type": "stream",
     "text": [
      "File data/expression.bin already downloaded\nPreprocessing Cortex data\n"
     ]
    },
    {
     "name": "stdout",
     "output_type": "stream",
     "text": [
      "Finished preprocessing Cortex data\nn_labels: 7\ncell_types: ['astrocytes_ependymal' 'endothelial-mural' 'interneurons' 'microglia'\n 'oligodendrocytes' 'pyramidal CA1' 'pyramidal SS']\nfloat32\n"
     ]
    }
   ],
   "source": [
    "from scvi.api.model.vae import VAE\n",
    "from scvi.dataset.cortex import CortexDataset\n",
    "gene_dataset = CortexDataset()\n",
    "print(gene_dataset.X.dtype)"
   ]
  },
  {
   "cell_type": "code",
   "execution_count": 3,
   "metadata": {
    "collapsed": true
   },
   "outputs": [
    {
     "name": "stdout",
     "output_type": "stream",
     "text": [
      "  (0, 1827)\t1.6358733\n  (0, 1812)\t1.6358733\n  (0, 1802)\t1.6358733\n  (0, 1799)\t2.2265546\n  (0, 1797)\t1.6358733\n  (0, 1792)\t1.6358733\n  (0, 1752)\t1.6358733\n  (0, 1737)\t2.2265546\n  (0, 1697)\t1.6358733\n  (0, 1696)\t1.6358733\n  (0, 1691)\t1.6358733\n  (0, 1660)\t1.6358733\n  (0, 1658)\t1.6358733\n  (0, 1657)\t2.2265546\n  (0, 1643)\t1.6358733\n  (0, 1632)\t1.6358733\n  (0, 1628)\t1.6358733\n  (0, 1627)\t1.6358733\n  (0, 1609)\t1.6358733\n  (0, 1603)\t1.6358733\n  (0, 1600)\t1.6358733\n  (0, 1575)\t1.6358733\n  (0, 1560)\t1.6358733\n  (0, 1542)\t1.6358733\n  (0, 1525)\t1.6358733\n  :\t:\n  (2637, 336)\t1.7984574\n  (2637, 330)\t1.7984574\n  (2637, 328)\t1.7984574\n  (2637, 324)\t1.7984574\n  (2637, 300)\t1.7984574\n  (2637, 282)\t2.4051998\n  (2637, 277)\t1.7984574\n  (2637, 266)\t1.7984574\n  (2637, 264)\t1.7984574\n  (2637, 242)\t1.7984574\n  (2637, 238)\t1.7984574\n  (2637, 216)\t1.7984574\n  (2637, 206)\t1.7984574\n  (2637, 184)\t2.4051998\n  (2637, 158)\t1.7984574\n  (2637, 152)\t2.4051998\n  (2637, 140)\t3.0521736\n  (2637, 123)\t1.7984574\n  (2637, 120)\t1.7984574\n  (2637, 110)\t2.4051998\n  (2637, 98)\t1.7984574\n  (2637, 61)\t2.4051998\n  (2637, 43)\t1.7984574\n  (2637, 17)\t2.4051998\n  (2637, 5)\t2.4051998\n<anndata.base.Raw object at 0x7f8b40cc2630>\n  (1827, 0)\t1.6358733\n  (1812, 0)\t1.6358733\n  (1802, 0)\t1.6358733\n  (1799, 0)\t2.2265546\n  (1797, 0)\t1.6358733\n  (1792, 0)\t1.6358733\n  (1752, 0)\t1.6358733\n  (1737, 0)\t2.2265546\n  (1697, 0)\t1.6358733\n  (1696, 0)\t1.6358733\n  (1691, 0)\t1.6358733\n  (1660, 0)\t1.6358733\n  (1658, 0)\t1.6358733\n  (1657, 0)\t2.2265546\n  (1643, 0)\t1.6358733\n  (1632, 0)\t1.6358733\n  (1628, 0)\t1.6358733\n  (1627, 0)\t1.6358733\n  (1609, 0)\t1.6358733\n  (1603, 0)\t1.6358733\n  (1600, 0)\t1.6358733\n  (1575, 0)\t1.6358733\n  (1560, 0)\t1.6358733\n  (1542, 0)\t1.6358733\n  (1525, 0)\t1.6358733\n  :\t:\n  (336, 2637)\t1.7984574\n  (330, 2637)\t1.7984574\n  (328, 2637)\t1.7984574\n  (324, 2637)\t1.7984574\n  (300, 2637)\t1.7984574\n  (282, 2637)\t2.4051998\n  (277, 2637)\t1.7984574\n  (266, 2637)\t1.7984574\n  (264, 2637)\t1.7984574\n  (242, 2637)\t1.7984574\n  (238, 2637)\t1.7984574\n  (216, 2637)\t1.7984574\n  (206, 2637)\t1.7984574\n  (184, 2637)\t2.4051998\n  (158, 2637)\t1.7984574\n  (152, 2637)\t2.4051998\n  (140, 2637)\t3.0521736\n  (123, 2637)\t1.7984574\n  (120, 2637)\t1.7984574\n  (110, 2637)\t2.4051998\n  (98, 2637)\t1.7984574\n  (61, 2637)\t2.4051998\n  (43, 2637)\t1.7984574\n  (17, 2637)\t2.4051998\n  (5, 2637)\t2.4051998\nX.shape: (1838, 2638)\nn_labels: 1\ncell_types: ['Undefined']\n  (5, 0)\t2.2265546\n  (13, 0)\t1.6358733\n  (17, 0)\t1.6358733\n  (25, 0)\t1.6358733\n  (49, 0)\t1.6358733\n  (52, 0)\t1.6358733\n  (57, 0)\t1.6358733\n  (69, 0)\t1.6358733\n  (116, 0)\t1.6358733\n  (140, 0)\t2.864242\n  (153, 0)\t1.6358733\n  (176, 0)\t2.2265546\n  (184, 0)\t1.6358733\n  (204, 0)\t1.6358733\n  (212, 0)\t1.6358733\n  (226, 0)\t1.6358733\n  (230, 0)\t1.6358733\n  (232, 0)\t1.6358733\n  (239, 0)\t2.2265546\n  (242, 0)\t1.6358733\n  (243, 0)\t1.6358733\n  (266, 0)\t1.6358733\n  (276, 0)\t1.6358733\n  (282, 0)\t1.6358733\n  (310, 0)\t1.6358733\n  :\t:\n  (1393, 2637)\t1.7984574\n  (1394, 2637)\t1.7984574\n  (1404, 2637)\t1.7984574\n  (1419, 2637)\t2.4051998\n  (1429, 2637)\t1.7984574\n  (1450, 2637)\t1.7984574\n  (1451, 2637)\t2.4051998\n  (1472, 2637)\t1.7984574\n  (1473, 2637)\t1.7984574\n  (1478, 2637)\t1.7984574\n  (1520, 2637)\t2.4051998\n  (1521, 2637)\t1.7984574\n  (1530, 2637)\t1.7984574\n  (1560, 2637)\t1.7984574\n  (1583, 2637)\t1.7984574\n  (1593, 2637)\t1.7984574\n  (1603, 2637)\t1.7984574\n  (1609, 2637)\t1.7984574\n  (1628, 2637)\t1.7984574\n  (1669, 2637)\t1.7984574\n  (1737, 2637)\t1.7984574\n  (1790, 2637)\t1.7984574\n  (1806, 2637)\t1.7984574\n  (1808, 2637)\t1.7984574\n  (1816, 2637)\t1.7984574\n\rtraining:   0%|          | 0/400 [00:00<?, ?it/s]"
     ]
    },
    {
     "name": "stdout",
     "output_type": "stream",
     "text": [
      "\rtraining:   0%|          | 1/400 [00:02<14:49,  2.23s/it]"
     ]
    },
    {
     "name": "stdout",
     "output_type": "stream",
     "text": [
      "\rtraining:   0%|          | 2/400 [00:04<14:40,  2.21s/it]"
     ]
    },
    {
     "name": "stdout",
     "output_type": "stream",
     "text": [
      "\rtraining:   1%|          | 3/400 [00:06<14:07,  2.13s/it]"
     ]
    },
    {
     "name": "stdout",
     "output_type": "stream",
     "text": [
      "\rtraining:   1%|          | 4/400 [00:08<13:49,  2.09s/it]"
     ]
    },
    {
     "name": "stdout",
     "output_type": "stream",
     "text": [
      "\rtraining:   1%|▏         | 5/400 [00:10<13:51,  2.11s/it]"
     ]
    },
    {
     "name": "stdout",
     "output_type": "stream",
     "text": [
      "\rtraining:   2%|▏         | 6/400 [00:12<13:56,  2.12s/it]"
     ]
    },
    {
     "name": "stdout",
     "output_type": "stream",
     "text": [
      "\rtraining:   2%|▏         | 7/400 [00:14<13:55,  2.13s/it]"
     ]
    },
    {
     "name": "stdout",
     "output_type": "stream",
     "text": [
      "\rtraining:   2%|▏         | 8/400 [00:17<13:55,  2.13s/it]"
     ]
    },
    {
     "name": "stdout",
     "output_type": "stream",
     "text": [
      "\rtraining:   2%|▏         | 9/400 [00:19<13:52,  2.13s/it]"
     ]
    },
    {
     "name": "stdout",
     "output_type": "stream",
     "text": [
      "\rtraining:   2%|▎         | 10/400 [00:21<13:44,  2.12s/it]"
     ]
    },
    {
     "name": "stdout",
     "output_type": "stream",
     "text": [
      "\rtraining:   3%|▎         | 11/400 [00:23<13:45,  2.12s/it]"
     ]
    },
    {
     "name": "stdout",
     "output_type": "stream",
     "text": [
      "\rtraining:   3%|▎         | 12/400 [00:25<13:49,  2.14s/it]"
     ]
    },
    {
     "name": "stdout",
     "output_type": "stream",
     "text": [
      "\rtraining:   3%|▎         | 13/400 [00:28<13:57,  2.16s/it]"
     ]
    },
    {
     "name": "stdout",
     "output_type": "stream",
     "text": [
      "\rtraining:   4%|▎         | 14/400 [00:30<14:03,  2.19s/it]"
     ]
    },
    {
     "name": "stdout",
     "output_type": "stream",
     "text": [
      "\rtraining:   4%|▍         | 15/400 [00:32<14:06,  2.20s/it]"
     ]
    },
    {
     "name": "stdout",
     "output_type": "stream",
     "text": [
      "\rtraining:   4%|▍         | 16/400 [00:35<14:06,  2.20s/it]"
     ]
    },
    {
     "name": "stdout",
     "output_type": "stream",
     "text": [
      "\rtraining:   4%|▍         | 17/400 [00:38<14:19,  2.24s/it]"
     ]
    },
    {
     "name": "stdout",
     "output_type": "stream",
     "text": [
      "\rtraining:   4%|▍         | 18/400 [00:41<14:33,  2.29s/it]"
     ]
    },
    {
     "name": "stdout",
     "output_type": "stream",
     "text": [
      "\rtraining:   5%|▍         | 19/400 [00:44<14:48,  2.33s/it]"
     ]
    },
    {
     "name": "stdout",
     "output_type": "stream",
     "text": [
      "\rtraining:   5%|▌         | 20/400 [00:47<14:56,  2.36s/it]"
     ]
    },
    {
     "name": "stdout",
     "output_type": "stream",
     "text": [
      "\rtraining:   5%|▌         | 21/400 [00:49<15:01,  2.38s/it]"
     ]
    },
    {
     "name": "stdout",
     "output_type": "stream",
     "text": [
      "\rtraining:   6%|▌         | 22/400 [00:53<15:24,  2.45s/it]"
     ]
    },
    {
     "name": "stdout",
     "output_type": "stream",
     "text": [
      "\rtraining:   6%|▌         | 23/400 [00:57<15:36,  2.48s/it]"
     ]
    },
    {
     "name": "stdout",
     "output_type": "stream",
     "text": [
      "\rtraining:   6%|▌         | 24/400 [01:01<16:05,  2.57s/it]"
     ]
    },
    {
     "name": "stdout",
     "output_type": "stream",
     "text": [
      "\rtraining:   6%|▋         | 25/400 [01:03<15:54,  2.55s/it]"
     ]
    },
    {
     "name": "stdout",
     "output_type": "stream",
     "text": [
      "\rtraining:   6%|▋         | 26/400 [01:05<15:43,  2.52s/it]"
     ]
    },
    {
     "name": "stdout",
     "output_type": "stream",
     "text": [
      "\rtraining:   7%|▋         | 27/400 [01:09<15:54,  2.56s/it]"
     ]
    },
    {
     "name": "stdout",
     "output_type": "stream",
     "text": [
      "\rtraining:   7%|▋         | 28/400 [01:11<15:54,  2.57s/it]"
     ]
    },
    {
     "name": "stdout",
     "output_type": "stream",
     "text": [
      "\rtraining:   7%|▋         | 29/400 [01:16<16:16,  2.63s/it]"
     ]
    },
    {
     "name": "stdout",
     "output_type": "stream",
     "text": [
      "\rtraining:   8%|▊         | 30/400 [01:19<16:18,  2.65s/it]"
     ]
    },
    {
     "name": "stdout",
     "output_type": "stream",
     "text": [
      "\rtraining:   8%|▊         | 31/400 [01:22<16:23,  2.67s/it]"
     ]
    },
    {
     "name": "stdout",
     "output_type": "stream",
     "text": [
      "\rtraining:   8%|▊         | 32/400 [01:26<16:38,  2.71s/it]"
     ]
    },
    {
     "name": "stdout",
     "output_type": "stream",
     "text": [
      "\rtraining:   8%|▊         | 33/400 [01:29<16:36,  2.71s/it]"
     ]
    },
    {
     "name": "stdout",
     "output_type": "stream",
     "text": [
      "\rtraining:   8%|▊         | 34/400 [01:32<16:38,  2.73s/it]"
     ]
    },
    {
     "name": "stdout",
     "output_type": "stream",
     "text": [
      "\rtraining:   9%|▉         | 35/400 [01:35<16:34,  2.72s/it]"
     ]
    },
    {
     "name": "stdout",
     "output_type": "stream",
     "text": [
      "\rtraining:   9%|▉         | 36/400 [01:37<16:29,  2.72s/it]"
     ]
    },
    {
     "name": "stdout",
     "output_type": "stream",
     "text": [
      "\rtraining:   9%|▉         | 37/400 [01:40<16:24,  2.71s/it]"
     ]
    },
    {
     "name": "stdout",
     "output_type": "stream",
     "text": [
      "\rtraining:  10%|▉         | 38/400 [01:43<16:21,  2.71s/it]"
     ]
    },
    {
     "name": "stdout",
     "output_type": "stream",
     "text": [
      "\rtraining:  10%|▉         | 39/400 [01:45<16:16,  2.71s/it]"
     ]
    },
    {
     "name": "stdout",
     "output_type": "stream",
     "text": [
      "\rtraining:  10%|█         | 40/400 [01:47<16:11,  2.70s/it]"
     ]
    },
    {
     "name": "stdout",
     "output_type": "stream",
     "text": [
      "\rtraining:  10%|█         | 41/400 [01:50<16:07,  2.70s/it]"
     ]
    },
    {
     "name": "stdout",
     "output_type": "stream",
     "text": [
      "\rtraining:  10%|█         | 42/400 [01:53<16:05,  2.70s/it]"
     ]
    },
    {
     "name": "stdout",
     "output_type": "stream",
     "text": [
      "\rtraining:  11%|█         | 43/400 [01:55<16:00,  2.69s/it]"
     ]
    },
    {
     "name": "stdout",
     "output_type": "stream",
     "text": [
      "\rtraining:  11%|█         | 44/400 [01:58<15:55,  2.68s/it]"
     ]
    },
    {
     "name": "stdout",
     "output_type": "stream",
     "text": [
      "\rtraining:  11%|█▏        | 45/400 [02:00<15:50,  2.68s/it]"
     ]
    },
    {
     "name": "stdout",
     "output_type": "stream",
     "text": [
      "\rtraining:  12%|█▏        | 46/400 [02:03<15:51,  2.69s/it]"
     ]
    },
    {
     "name": "stdout",
     "output_type": "stream",
     "text": [
      "\rtraining:  12%|█▏        | 47/400 [02:06<15:48,  2.69s/it]"
     ]
    },
    {
     "name": "stdout",
     "output_type": "stream",
     "text": [
      "\rtraining:  12%|█▏        | 48/400 [02:08<15:44,  2.68s/it]"
     ]
    },
    {
     "name": "stdout",
     "output_type": "stream",
     "text": [
      "\rtraining:  12%|█▏        | 49/400 [02:11<15:41,  2.68s/it]"
     ]
    },
    {
     "name": "stdout",
     "output_type": "stream",
     "text": [
      "\rtraining:  12%|█▎        | 50/400 [02:13<15:37,  2.68s/it]"
     ]
    },
    {
     "name": "stdout",
     "output_type": "stream",
     "text": [
      "\rtraining:  13%|█▎        | 51/400 [02:16<15:32,  2.67s/it]"
     ]
    },
    {
     "name": "stdout",
     "output_type": "stream",
     "text": [
      "\rtraining:  13%|█▎        | 52/400 [02:18<15:27,  2.67s/it]"
     ]
    },
    {
     "name": "stdout",
     "output_type": "stream",
     "text": [
      "\rtraining:  13%|█▎        | 53/400 [02:20<15:22,  2.66s/it]"
     ]
    },
    {
     "name": "stdout",
     "output_type": "stream",
     "text": [
      "\rtraining:  14%|█▎        | 54/400 [02:23<15:18,  2.65s/it]"
     ]
    },
    {
     "name": "stdout",
     "output_type": "stream",
     "text": [
      "\rtraining:  14%|█▍        | 55/400 [02:28<15:28,  2.69s/it]"
     ]
    },
    {
     "name": "stdout",
     "output_type": "stream",
     "text": [
      "\rtraining:  14%|█▍        | 56/400 [02:30<15:26,  2.69s/it]"
     ]
    },
    {
     "name": "stdout",
     "output_type": "stream",
     "text": [
      "\rtraining:  14%|█▍        | 57/400 [02:33<15:22,  2.69s/it]"
     ]
    },
    {
     "name": "stdout",
     "output_type": "stream",
     "text": [
      "\rtraining:  14%|█▍        | 58/400 [02:35<15:18,  2.69s/it]"
     ]
    },
    {
     "name": "stdout",
     "output_type": "stream",
     "text": [
      "\rtraining:  15%|█▍        | 59/400 [02:38<15:14,  2.68s/it]"
     ]
    },
    {
     "name": "stdout",
     "output_type": "stream",
     "text": [
      "\rtraining:  15%|█▌        | 60/400 [02:40<15:10,  2.68s/it]"
     ]
    },
    {
     "name": "stdout",
     "output_type": "stream",
     "text": [
      "\rtraining:  15%|█▌        | 61/400 [02:42<15:05,  2.67s/it]"
     ]
    },
    {
     "name": "stdout",
     "output_type": "stream",
     "text": [
      "\rtraining:  16%|█▌        | 62/400 [02:45<15:02,  2.67s/it]"
     ]
    },
    {
     "name": "stdout",
     "output_type": "stream",
     "text": [
      "\rtraining:  16%|█▌        | 63/400 [02:48<15:01,  2.67s/it]"
     ]
    },
    {
     "name": "stdout",
     "output_type": "stream",
     "text": [
      "\rtraining:  16%|█▌        | 64/400 [02:54<15:16,  2.73s/it]"
     ]
    },
    {
     "name": "stdout",
     "output_type": "stream",
     "text": [
      "\rtraining:  16%|█▋        | 65/400 [02:57<15:12,  2.72s/it]"
     ]
    },
    {
     "name": "stdout",
     "output_type": "stream",
     "text": [
      "\rtraining:  16%|█▋        | 66/400 [02:59<15:07,  2.72s/it]"
     ]
    },
    {
     "name": "stdout",
     "output_type": "stream",
     "text": [
      "\rtraining:  17%|█▋        | 67/400 [03:01<15:01,  2.71s/it]"
     ]
    },
    {
     "name": "stdout",
     "output_type": "stream",
     "text": [
      "\rtraining:  17%|█▋        | 68/400 [03:03<14:56,  2.70s/it]"
     ]
    },
    {
     "name": "stdout",
     "output_type": "stream",
     "text": [
      "\rtraining:  17%|█▋        | 69/400 [03:06<14:52,  2.70s/it]"
     ]
    },
    {
     "name": "stdout",
     "output_type": "stream",
     "text": [
      "\rtraining:  18%|█▊        | 70/400 [03:09<14:55,  2.71s/it]"
     ]
    },
    {
     "name": "stdout",
     "output_type": "stream",
     "text": [
      "\rtraining:  18%|█▊        | 71/400 [03:12<14:51,  2.71s/it]"
     ]
    },
    {
     "name": "stdout",
     "output_type": "stream",
     "text": [
      "\rtraining:  18%|█▊        | 72/400 [03:14<14:47,  2.71s/it]"
     ]
    },
    {
     "name": "stdout",
     "output_type": "stream",
     "text": [
      "\rtraining:  18%|█▊        | 73/400 [03:17<14:43,  2.70s/it]"
     ]
    },
    {
     "name": "stdout",
     "output_type": "stream",
     "text": [
      "\rtraining:  18%|█▊        | 74/400 [03:19<14:39,  2.70s/it]"
     ]
    },
    {
     "name": "stdout",
     "output_type": "stream",
     "text": [
      "\rtraining:  19%|█▉        | 75/400 [03:22<14:36,  2.70s/it]"
     ]
    },
    {
     "name": "stdout",
     "output_type": "stream",
     "text": [
      "\rtraining:  19%|█▉        | 76/400 [03:24<14:33,  2.70s/it]"
     ]
    },
    {
     "name": "stdout",
     "output_type": "stream",
     "text": [
      "\rtraining:  19%|█▉        | 77/400 [03:29<14:37,  2.72s/it]"
     ]
    },
    {
     "name": "stdout",
     "output_type": "stream",
     "text": [
      "\rtraining:  20%|█▉        | 78/400 [03:32<14:36,  2.72s/it]"
     ]
    },
    {
     "name": "stdout",
     "output_type": "stream",
     "text": [
      "\rtraining:  20%|█▉        | 79/400 [03:35<14:35,  2.73s/it]"
     ]
    },
    {
     "name": "stdout",
     "output_type": "stream",
     "text": [
      "\rtraining:  20%|██        | 80/400 [03:38<14:35,  2.74s/it]"
     ]
    },
    {
     "name": "stdout",
     "output_type": "stream",
     "text": [
      "\rtraining:  20%|██        | 81/400 [03:42<14:37,  2.75s/it]"
     ]
    },
    {
     "name": "stdout",
     "output_type": "stream",
     "text": [
      "\rtraining:  20%|██        | 82/400 [03:46<14:36,  2.76s/it]"
     ]
    },
    {
     "name": "stdout",
     "output_type": "stream",
     "text": [
      "\rtraining:  21%|██        | 83/400 [03:49<14:36,  2.77s/it]"
     ]
    },
    {
     "name": "stdout",
     "output_type": "stream",
     "text": [
      "\rtraining:  21%|██        | 84/400 [03:52<14:33,  2.76s/it]"
     ]
    },
    {
     "name": "stdout",
     "output_type": "stream",
     "text": [
      "\rtraining:  21%|██▏       | 85/400 [03:54<14:29,  2.76s/it]"
     ]
    },
    {
     "name": "stdout",
     "output_type": "stream",
     "text": [
      "\rtraining:  22%|██▏       | 86/400 [03:56<14:24,  2.75s/it]"
     ]
    },
    {
     "name": "stdout",
     "output_type": "stream",
     "text": [
      "\rtraining:  22%|██▏       | 87/400 [03:59<14:20,  2.75s/it]"
     ]
    },
    {
     "name": "stdout",
     "output_type": "stream",
     "text": [
      "\rtraining:  22%|██▏       | 88/400 [04:01<14:17,  2.75s/it]"
     ]
    },
    {
     "name": "stdout",
     "output_type": "stream",
     "text": [
      "\rtraining:  22%|██▏       | 89/400 [04:04<14:14,  2.75s/it]"
     ]
    },
    {
     "name": "stdout",
     "output_type": "stream",
     "text": [
      "\rtraining:  22%|██▎       | 90/400 [04:08<14:14,  2.76s/it]"
     ]
    },
    {
     "name": "stdout",
     "output_type": "stream",
     "text": [
      "\rtraining:  23%|██▎       | 91/400 [04:12<14:16,  2.77s/it]"
     ]
    },
    {
     "name": "stdout",
     "output_type": "stream",
     "text": [
      "\rtraining:  23%|██▎       | 92/400 [04:14<14:11,  2.77s/it]"
     ]
    },
    {
     "name": "stdout",
     "output_type": "stream",
     "text": [
      "\rtraining:  23%|██▎       | 93/400 [04:18<14:11,  2.77s/it]"
     ]
    },
    {
     "name": "stdout",
     "output_type": "stream",
     "text": [
      "\rtraining:  24%|██▎       | 94/400 [04:21<14:09,  2.78s/it]"
     ]
    },
    {
     "name": "stdout",
     "output_type": "stream",
     "text": [
      "\rtraining:  24%|██▍       | 95/400 [04:24<14:09,  2.79s/it]"
     ]
    },
    {
     "name": "stdout",
     "output_type": "stream",
     "text": [
      "\rtraining:  24%|██▍       | 96/400 [04:27<14:07,  2.79s/it]"
     ]
    },
    {
     "name": "stdout",
     "output_type": "stream",
     "text": [
      "\rtraining:  24%|██▍       | 97/400 [04:31<14:07,  2.80s/it]"
     ]
    },
    {
     "name": "stdout",
     "output_type": "stream",
     "text": [
      "\rtraining:  24%|██▍       | 98/400 [04:33<14:03,  2.79s/it]"
     ]
    },
    {
     "name": "stdout",
     "output_type": "stream",
     "text": [
      "\rtraining:  25%|██▍       | 99/400 [04:36<13:59,  2.79s/it]"
     ]
    },
    {
     "name": "stdout",
     "output_type": "stream",
     "text": [
      "\rtraining:  25%|██▌       | 100/400 [04:38<13:55,  2.78s/it]"
     ]
    },
    {
     "name": "stdout",
     "output_type": "stream",
     "text": [
      "\rtraining:  25%|██▌       | 101/400 [04:40<13:51,  2.78s/it]"
     ]
    },
    {
     "name": "stdout",
     "output_type": "stream",
     "text": [
      "\rtraining:  26%|██▌       | 102/400 [04:43<13:47,  2.78s/it]"
     ]
    },
    {
     "name": "stdout",
     "output_type": "stream",
     "text": [
      "\rtraining:  26%|██▌       | 103/400 [04:46<13:45,  2.78s/it]"
     ]
    },
    {
     "name": "stdout",
     "output_type": "stream",
     "text": [
      "\rtraining:  26%|██▌       | 104/400 [04:49<13:43,  2.78s/it]"
     ]
    },
    {
     "name": "stdout",
     "output_type": "stream",
     "text": [
      "\rtraining:  26%|██▋       | 105/400 [04:52<13:41,  2.79s/it]"
     ]
    },
    {
     "name": "stdout",
     "output_type": "stream",
     "text": [
      "\rtraining:  26%|██▋       | 106/400 [04:55<13:39,  2.79s/it]"
     ]
    },
    {
     "name": "stdout",
     "output_type": "stream",
     "text": [
      "\rtraining:  27%|██▋       | 107/400 [04:57<13:36,  2.78s/it]"
     ]
    },
    {
     "name": "stdout",
     "output_type": "stream",
     "text": [
      "\rtraining:  27%|██▋       | 108/400 [05:00<13:32,  2.78s/it]"
     ]
    },
    {
     "name": "stdout",
     "output_type": "stream",
     "text": [
      "\rtraining:  27%|██▋       | 109/400 [05:02<13:28,  2.78s/it]"
     ]
    },
    {
     "name": "stdout",
     "output_type": "stream",
     "text": [
      "\rtraining:  28%|██▊       | 110/400 [05:05<13:25,  2.78s/it]"
     ]
    },
    {
     "name": "stdout",
     "output_type": "stream",
     "text": [
      "\rtraining:  28%|██▊       | 111/400 [05:08<13:22,  2.78s/it]"
     ]
    },
    {
     "name": "stdout",
     "output_type": "stream",
     "text": [
      "\rtraining:  28%|██▊       | 112/400 [05:10<13:18,  2.77s/it]"
     ]
    },
    {
     "name": "stdout",
     "output_type": "stream",
     "text": [
      "\rtraining:  28%|██▊       | 113/400 [05:13<13:15,  2.77s/it]"
     ]
    },
    {
     "name": "stdout",
     "output_type": "stream",
     "text": [
      "\rtraining:  28%|██▊       | 114/400 [05:16<13:15,  2.78s/it]"
     ]
    },
    {
     "name": "stdout",
     "output_type": "stream",
     "text": [
      "\rtraining:  29%|██▉       | 115/400 [05:20<13:13,  2.78s/it]"
     ]
    },
    {
     "name": "stdout",
     "output_type": "stream",
     "text": [
      "\rtraining:  29%|██▉       | 116/400 [05:23<13:12,  2.79s/it]"
     ]
    },
    {
     "name": "stdout",
     "output_type": "stream",
     "text": [
      "\rtraining:  29%|██▉       | 117/400 [05:27<13:11,  2.80s/it]"
     ]
    },
    {
     "name": "stdout",
     "output_type": "stream",
     "text": [
      "\rtraining:  30%|██▉       | 118/400 [05:30<13:09,  2.80s/it]"
     ]
    },
    {
     "name": "stdout",
     "output_type": "stream",
     "text": [
      "\rtraining:  30%|██▉       | 119/400 [05:33<13:07,  2.80s/it]"
     ]
    },
    {
     "name": "stdout",
     "output_type": "stream",
     "text": [
      "\rtraining:  30%|███       | 120/400 [05:35<13:03,  2.80s/it]"
     ]
    },
    {
     "name": "stdout",
     "output_type": "stream",
     "text": [
      "\rtraining:  30%|███       | 121/400 [05:38<13:00,  2.80s/it]"
     ]
    },
    {
     "name": "stdout",
     "output_type": "stream",
     "text": [
      "\rtraining:  30%|███       | 122/400 [05:41<12:59,  2.80s/it]"
     ]
    },
    {
     "name": "stdout",
     "output_type": "stream",
     "text": [
      "\rtraining:  31%|███       | 123/400 [05:45<12:57,  2.81s/it]"
     ]
    },
    {
     "name": "stdout",
     "output_type": "stream",
     "text": [
      "\rtraining:  31%|███       | 124/400 [05:48<12:54,  2.81s/it]"
     ]
    },
    {
     "name": "stdout",
     "output_type": "stream",
     "text": [
      "\rtraining:  31%|███▏      | 125/400 [05:50<12:50,  2.80s/it]"
     ]
    },
    {
     "name": "stdout",
     "output_type": "stream",
     "text": [
      "\rtraining:  32%|███▏      | 126/400 [05:52<12:47,  2.80s/it]"
     ]
    },
    {
     "name": "stdout",
     "output_type": "stream",
     "text": [
      "\rtraining:  32%|███▏      | 127/400 [05:55<12:43,  2.80s/it]"
     ]
    },
    {
     "name": "stdout",
     "output_type": "stream",
     "text": [
      "\rtraining:  32%|███▏      | 128/400 [05:57<12:39,  2.79s/it]"
     ]
    },
    {
     "name": "stdout",
     "output_type": "stream",
     "text": [
      "\rtraining:  32%|███▏      | 129/400 [05:59<12:35,  2.79s/it]"
     ]
    },
    {
     "name": "stdout",
     "output_type": "stream",
     "text": [
      "\rtraining:  32%|███▎      | 130/400 [06:02<12:31,  2.78s/it]"
     ]
    },
    {
     "name": "stdout",
     "output_type": "stream",
     "text": [
      "\rtraining:  33%|███▎      | 131/400 [06:04<12:28,  2.78s/it]"
     ]
    },
    {
     "name": "stdout",
     "output_type": "stream",
     "text": [
      "\rtraining:  33%|███▎      | 132/400 [06:06<12:24,  2.78s/it]"
     ]
    },
    {
     "name": "stdout",
     "output_type": "stream",
     "text": [
      "\rtraining:  33%|███▎      | 133/400 [06:09<12:22,  2.78s/it]"
     ]
    },
    {
     "name": "stdout",
     "output_type": "stream",
     "text": [
      "\rtraining:  34%|███▎      | 134/400 [06:12<12:18,  2.78s/it]"
     ]
    },
    {
     "name": "stdout",
     "output_type": "stream",
     "text": [
      "\rtraining:  34%|███▍      | 135/400 [06:14<12:14,  2.77s/it]"
     ]
    },
    {
     "name": "stdout",
     "output_type": "stream",
     "text": [
      "\rtraining:  34%|███▍      | 136/400 [06:16<12:11,  2.77s/it]"
     ]
    }
   ],
   "source": [
    "from scvi.api.tool.annDataset import AnnGeneDataset\n",
    "import numpy as np\n",
    "from scanpy.datasets import pbmc68k_reduced\n",
    "from scvi.models.vae import VAE\n",
    "import scanpy.api as sc\n",
    "from scvi.inference.inference import UnsupervisedTrainer\n",
    "from scvi.dataset.pbmc3k import Pbmc3kDataset \n",
    "\n",
    "# gene_dataset2 = Pbmc3kDataset()\n",
    "results_file = './write/pmbc3k.h5ad'\n",
    "adata = sc.read(results_file)\n",
    "print(adata.X)\n",
    "print(adata.raw)\n",
    "gene_dataset2 = AnnGeneDataset(adata)\n",
    "print(gene_dataset2.X)\n",
    "# print(pbmc3k.transpose().X.shape)\n",
    "# np.array_equal(gene_dataset2.X, pbmc3k.X)\n",
    "\n",
    "vae = VAE(gene_dataset2.nb_genes)\n",
    "# print(gene_dataset2.X)\n",
    "# print(gene_dataset2.labels.shape)\n",
    "##???\n",
    "trainer = UnsupervisedTrainer(vae, gene_dataset2)\n",
    "trainer.train(400)\n",
    "trainer.test_set.get_latent()"
   ]
  },
  {
   "cell_type": "code",
   "execution_count": 2,
   "metadata": {},
   "outputs": [
    {
     "ename": "NameError",
     "evalue": "name 'trainer' is not defined",
     "traceback": [
      "\u001b[0;31m---------------------------------------------------------------------------\u001b[0m",
      "\u001b[0;31mNameError\u001b[0m                                 Traceback (most recent call last)",
      "\u001b[0;32m<ipython-input-2-f5b3460ab61e>\u001b[0m in \u001b[0;36m<module>\u001b[0;34m\u001b[0m\n\u001b[0;32m----> 1\u001b[0;31m \u001b[0mposterior\u001b[0m \u001b[0;34m=\u001b[0m \u001b[0mtrainer\u001b[0m\u001b[0;34m.\u001b[0m\u001b[0mtest_set\u001b[0m\u001b[0;34m\u001b[0m\u001b[0;34m\u001b[0m\u001b[0m\n\u001b[0m\u001b[1;32m      2\u001b[0m \u001b[0;32mfrom\u001b[0m \u001b[0mscvi\u001b[0m\u001b[0;34m.\u001b[0m\u001b[0mapi\u001b[0m\u001b[0;34m.\u001b[0m\u001b[0mtool\u001b[0m\u001b[0;34m.\u001b[0m\u001b[0mposterior2adata\u001b[0m \u001b[0;32mimport\u001b[0m \u001b[0mposterior2adata\u001b[0m\u001b[0;34m\u001b[0m\u001b[0;34m\u001b[0m\u001b[0m\n\u001b[1;32m      3\u001b[0m \u001b[0;34m\u001b[0m\u001b[0m\n\u001b[1;32m      4\u001b[0m \u001b[0madata\u001b[0m \u001b[0;34m=\u001b[0m \u001b[0mposterior2adata\u001b[0m\u001b[0;34m(\u001b[0m\u001b[0mposterior\u001b[0m\u001b[0;34m)\u001b[0m\u001b[0;34m\u001b[0m\u001b[0;34m\u001b[0m\u001b[0m\n\u001b[1;32m      5\u001b[0m \u001b[0mprint\u001b[0m\u001b[0;34m(\u001b[0m\u001b[0madata\u001b[0m\u001b[0;34m)\u001b[0m\u001b[0;34m\u001b[0m\u001b[0;34m\u001b[0m\u001b[0m\n",
      "\u001b[0;31mNameError\u001b[0m: name 'trainer' is not defined"
     ],
     "output_type": "error"
    }
   ],
   "source": [
    "posterior = trainer.test_set\n",
    "from scvi.api.tool.posterior2adata import posterior2adata\n",
    "\n",
    "adata = posterior2adata(posterior)\n",
    "print(adata)"
   ]
  },
  {
   "cell_type": "code",
   "execution_count": null,
   "metadata": {},
   "outputs": [],
   "source": []
  }
 ],
 "metadata": {
  "kernelspec": {
   "display_name": "Python 2",
   "language": "python",
   "name": "python2"
  },
  "language_info": {
   "codemirror_mode": {
    "name": "ipython",
    "version": 2
   },
   "file_extension": ".py",
   "mimetype": "text/x-python",
   "name": "python",
   "nbconvert_exporter": "python",
   "pygments_lexer": "ipython2",
   "version": "2.7.6"
  }
 },
 "nbformat": 4,
 "nbformat_minor": 0
}
