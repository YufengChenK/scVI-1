{
 "cells": [
  {
   "cell_type": "markdown",
   "metadata": {},
   "source": [
    "# Tutorial for scVI with PBMC3K dataset\n"
   ]
  },
  {
   "cell_type": "markdown",
   "metadata": {},
   "source": [
    "## configuration"
   ]
  },
  {
   "cell_type": "code",
   "execution_count": null,
   "metadata": {},
   "outputs": [
    {
     "name": "stdout",
     "output_type": "stream",
     "text": [
      "{'save_path': 'data/'}\n"
     ]
    }
   ],
   "source": [
    "import json\n",
    "with open('tests/notebooks/basic_tutorial.config.json') as f:\n",
    "    config = json.load(f)\n",
    "print(config)\n",
    "\n",
    "n_epochs_all = config['n_epochs'] if 'n_epochs' in config else None\n",
    "save_path = config['save_path'] if 'save_path' in config else 'data/'\n",
    "n_samples_tsne = config['n_samples_tsne'] if 'n_samples_tsne' in config else None\n",
    "n_samples_posterior_density = config['n_samples_posterior_density'] if 'n_samples_posterior_density' in config else None\n",
    "train_size = config['train_size'] if 'train_size' in config else None\n",
    "M_sampling_all = config['M_sampling'] if 'M_sampling' in config else None\n",
    "M_permutation_all = config['M_permutation'] if 'M_permutation' in config else None\n",
    "rate = config['rate'] if 'rate' in config else None"
   ]
  },
  {
   "cell_type": "code",
   "execution_count": 2,
   "metadata": {},
   "outputs": [],
   "source": [
    "import os\n",
    "\n",
    "import numpy as np\n",
    "from sklearn.manifold import TSNE\n",
    "import matplotlib.pyplot as plt\n",
    "\n",
    "\n",
    "from scvi.dataset import Pbmc3kDataset\n",
    "\n",
    "from scvi.models import *\n",
    "from scvi.inference import UnsupervisedTrainer"
   ]
  },
  {
   "cell_type": "code",
   "execution_count": 7,
   "metadata": {},
   "outputs": [
    {
     "name": "stdout",
     "output_type": "stream",
     "text": [
      "File data/filtered_gene_bc_matrices.tar.gz already downloaded\nPbmc3K Dataset preprocess\nExtracting tar file and read data\nthere exists: True\n"
     ]
    },
    {
     "name": "stdout",
     "output_type": "stream",
     "text": [
      "end reading data\nstart preprocessing it\nWarn: 1. this is only for mito gene\n"
     ]
    },
    {
     "name": "stdout",
     "output_type": "stream",
     "text": [
      "end preprocessing it\nPbmc3k Dataset preprocessing ends\n"
     ]
    }
   ],
   "source": [
    "gene_dataset = Pbmc3kDataset(save_path=save_path)"
   ]
  },
  {
   "cell_type": "code",
   "execution_count": 4,
   "metadata": {},
   "outputs": [
    {
     "name": "stdout",
     "output_type": "stream",
     "text": [
      "\rtraining:   0%|          | 0/1 [00:00<?, ?it/s]"
     ]
    },
    {
     "name": "stdout",
     "output_type": "stream",
     "text": [
      "\rtraining: 100%|██████████| 1/1 [00:17<00:00, 17.51s/it]"
     ]
    },
    {
     "name": "stdout",
     "output_type": "stream",
     "text": [
      "\n"
     ]
    }
   ],
   "source": [
    "\n",
    "n_epochs = 1 if n_epochs_all is None else n_epochs_all\n",
    "lr = 1e-3\n",
    "use_batches = False\n",
    "use_cuda = False\n",
    "\n",
    "vae = VAE(gene_dataset.nb_genes, n_batch=gene_dataset.n_batches * use_batches)\n",
    "trainer = UnsupervisedTrainer(vae, gene_dataset, train_size=0.75, use_cuda=use_cuda, frequency=5)\n",
    "trainer.train(n_epochs=n_epochs, lr=lr)\n",
    "\n",
    "ll_train_set = trainer.history[\"ll_train_set\"]\n",
    "ll_test_set = trainer.history[\"ll_test_set\"]\n",
    "x = np.linspace(0, 500, (len(ll_train_set)))\n",
    "plt.plot(x, ll_train_set)\n",
    "plt.plot(x, ll_test_set)\n",
    "plt.ylim(1150, 1600)\n",
    "plt.show()\n",
    "plt.savefig(\"test.png\", color=\"CST3\")\n"
   ]
  },
  {
   "cell_type": "code",
   "execution_count": 6,
   "metadata": {
    "collapsed": false
   },
   "outputs": [
    {
     "ename": "AttributeError",
     "evalue": "'Pbmc3kDataset' object has no attribute 'gene_name_index'",
     "traceback": [
      "\u001b[0;31m---------------------------------------------------------------------------\u001b[0m",
      "\u001b[0;31mAttributeError\u001b[0m                            Traceback (most recent call last)",
      "\u001b[0;32m<ipython-input-6-a312097e916d>\u001b[0m in \u001b[0;36m<module>\u001b[0;34m\u001b[0m\n\u001b[1;32m      1\u001b[0m \u001b[0;32mimport\u001b[0m \u001b[0mos\u001b[0m\u001b[0;34m\u001b[0m\u001b[0m\n\u001b[1;32m      2\u001b[0m \u001b[0mos\u001b[0m\u001b[0;34m.\u001b[0m\u001b[0mgetcwd\u001b[0m\u001b[0;34m(\u001b[0m\u001b[0;34m)\u001b[0m\u001b[0;34m\u001b[0m\u001b[0m\n\u001b[0;32m----> 3\u001b[0;31m \u001b[0mprint\u001b[0m\u001b[0;34m(\u001b[0m\u001b[0mgene_dataset\u001b[0m\u001b[0;34m.\u001b[0m\u001b[0mgene_name_index\u001b[0m\u001b[0;34m)\u001b[0m\u001b[0;34m\u001b[0m\u001b[0m\n\u001b[0m",
      "\u001b[0;31mAttributeError\u001b[0m: 'Pbmc3kDataset' object has no attribute 'gene_name_index'"
     ],
     "output_type": "error"
    }
   ],
   "source": [
    "import os\n",
    "os.getcwd()\n",
    "print(gene_dataset.gene_name_index)"
   ]
  },
  {
   "cell_type": "markdown",
   "metadata": {
    "collapsed": false
   },
   "source": [
    "## PCA\n"
   ]
  },
  {
   "cell_type": "code",
   "execution_count": 16,
   "metadata": {
    "collapsed": false
   },
   "outputs": [
    {
     "name": "stdout",
     "output_type": "stream",
     "text": [
      "[[-0.08139734 -0.52871233]\n [ 1.8646802  -0.20577204]\n [-0.51875556 -0.48275948]\n ...\n [-0.16295454 -0.35133126]\n [-2.2334762   0.7503805 ]\n [-0.5208154  -0.5061717 ]]\n"
     ]
    }
   ],
   "source": [
    "from sklearn.decomposition.pca import PCA\n",
    "latent, batch_indices, labels = trainer.test_set.get_latent()\n",
    "pca = PCA(n_components=2)\n",
    "\n",
    "compressed_latent = pca.fit_transform(latent)\n",
    "print(compressed_latent)\n",
    "plt.figure(figsize=(10, 10))\n",
    "\n",
    "plt.scatter(compressed_latent[:, 0], compressed_latent[:, 1], marker=\".\", cmap='RdBu_r')\n",
    "# plt.show()\n",
    "plt.title(\"Hello\")\n",
    "plt.savefig(\"pca.png\")"
   ]
  },
  {
   "cell_type": "markdown",
   "metadata": {
    "collapsed": false
   },
   "source": [
    "## TSNE\n"
   ]
  },
  {
   "cell_type": "code",
   "execution_count": null,
   "metadata": {},
   "outputs": [
    {
     "name": "stdout",
     "output_type": "stream",
     "text": [
      "<class 'scvi.inference.inference.UnsupervisedTrainer'>\n[[-0.77338713 -0.38158295  0.12276298 ... -0.71149576 -1.2822084\n  -0.04172951]\n [ 0.98246276 -0.5394774   1.248472   ... -0.36474323  1.0687717\n   0.09033996]\n [-0.50152344  0.36511883  0.05584943 ... -0.6257056  -0.1659959\n   1.078433  ]\n ...\n [ 0.89670557  0.42668155 -0.37404084 ...  0.39146912 -0.82999045\n  -1.248309  ]\n [-0.05436607  0.05620524  0.08537936 ... -1.4820328  -0.00945437\n   0.6122958 ]\n [-0.89089394 -1.3243413  -0.15957141 ... -0.9393456  -0.33437467\n   0.12578028]]\n"
     ]
    }
   ],
   "source": [
    "print(type(trainer))\n",
    "latent, batch_indices, labels = trainer.test_set.get_latent()\n",
    "n_samples = 1000\n",
    "print(latent)\n",
    "latent, idx_t_sne = trainer.test_set.apply_t_sne(latent, n_samples)\n",
    "plt.figure(figsize=(10, 10))\n",
    "\n",
    "plt.scatter(latent[:, 0], latent[:, 1], cmap='RdBu_r')\n",
    "plt.show()\n",
    "plt.savefig(\"tsne.png\")"
   ]
  },
  {
   "cell_type": "markdown",
   "metadata": {},
   "source": [
    "# Cluster\n"
   ]
  },
  {
   "cell_type": "code",
   "execution_count": null,
   "metadata": {},
   "outputs": [],
   "source": [
    "import louvain\n",
    "random_state = 0\n",
    "louvain.set_rng_seed(random_state)\n"
   ]
  },
  {
   "cell_type": "markdown",
   "metadata": {},
   "source": [
    "## Finding marker genes"
   ]
  },
  {
   "cell_type": "markdown",
   "metadata": {},
   "source": [
    "## Saving or exporting the results"
   ]
  },
  {
   "cell_type": "code",
   "execution_count": null,
   "metadata": {},
   "outputs": [],
   "source": []
  }
 ],
 "metadata": {
  "kernelspec": {
   "display_name": "Python 3",
   "language": "python",
   "name": "python3"
  },
  "language_info": {
   "codemirror_mode": {
    "name": "ipython",
    "version": 3
   },
   "file_extension": ".py",
   "mimetype": "text/x-python",
   "name": "python",
   "nbconvert_exporter": "python",
   "pygments_lexer": "ipython3",
   "version": "3.6.5"
  }
 },
 "nbformat": 4,
 "nbformat_minor": 1
}
